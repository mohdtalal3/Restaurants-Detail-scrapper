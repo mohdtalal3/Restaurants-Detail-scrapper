{
 "cells": [
  {
   "cell_type": "code",
   "execution_count": null,
   "metadata": {},
   "outputs": [],
   "source": []
  },
  {
   "cell_type": "code",
   "execution_count": 9,
   "metadata": {},
   "outputs": [],
   "source": [
    "import sqlite3\n",
    "import pandas as pd\n",
    "\n",
    "# Connect to SQLite database\n",
    "conn = sqlite3.connect('gather_in_omaha.db')\n",
    "\n",
    "# Load data into a pandas DataFrame\n",
    "query = \"SELECT * FROM listings\"\n",
    "df = pd.read_sql_query(query, conn)\n",
    "\n",
    "# Save DataFrame to CSV\n",
    "df.to_csv('data.csv', index=False)\n",
    "\n",
    "# Close the connection\n",
    "conn.close()\n"
   ]
  },
  {
   "cell_type": "code",
   "execution_count": 16,
   "metadata": {},
   "outputs": [
    {
     "name": "stdout",
     "output_type": "stream",
     "text": [
      "Data saved to full_urls.csv\n"
     ]
    }
   ],
   "source": [
    "import pandas as pd\n",
    "\n",
    "# Load the CSV file\n",
    "df = pd.read_csv(\"links.csv\")\n",
    "\n",
    "# Prepend the base URL to each element in the DataFrame\n",
    "base_url = \"https://www.visitomaha.com\"\n",
    "df[\"links\"] = df[\"links\"].apply(lambda x: base_url + x)\n",
    "\n",
    "# Save the updated DataFrame to a new CSV file\n",
    "df.to_csv(\"full_urls.csv\", index=False)\n",
    "\n",
    "print(\"Data saved to full_urls.csv\")\n"
   ]
  }
 ],
 "metadata": {
  "kernelspec": {
   "display_name": "Python 3",
   "language": "python",
   "name": "python3"
  },
  "language_info": {
   "codemirror_mode": {
    "name": "ipython",
    "version": 3
   },
   "file_extension": ".py",
   "mimetype": "text/x-python",
   "name": "python",
   "nbconvert_exporter": "python",
   "pygments_lexer": "ipython3",
   "version": "3.12.4"
  }
 },
 "nbformat": 4,
 "nbformat_minor": 2
}
